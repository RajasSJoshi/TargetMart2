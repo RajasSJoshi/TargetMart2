{
    "metadata": {
        "kernelspec": {
            "name": "SQL",
            "display_name": "SQL",
            "language": "sql"
        },
        "language_info": {
            "name": "sql",
            "version": ""
        }
    },
    "nbformat_minor": 2,
    "nbformat": 4,
    "cells": [
        {
            "cell_type": "markdown",
            "source": [
                "# **TargetMart2 Creation**"
            ],
            "metadata": {
                "azdata_cell_guid": "5b9e5092-1977-430f-add8-69ec04de3cd0"
            },
            "attachments": {}
        },
        {
            "cell_type": "markdown",
            "source": [
                "## **'dim' and 'f' schema creation**"
            ],
            "metadata": {
                "azdata_cell_guid": "03bca987-2b02-4e5b-92b6-3c31fdee8474"
            },
            "attachments": {}
        },
        {
            "cell_type": "code",
            "source": [
                "USE TargetMart2; --Database Name\r\n",
                "GO\r\n",
                "\r\n",
                "IF NOT EXISTS (SELECT * FROM sys.schemas WHERE name = 'dim' ) \r\n",
                "BEGIN\r\n",
                "\tEXEC sp_executesql N'CREATE SCHEMA dim AUTHORIZATION dbo;'\r\n",
                "END\r\n",
                ";                                                                --dim schema creation\r\n",
                "\r\n",
                "GO\r\n",
                "\r\n",
                "IF NOT EXISTS (SELECT * FROM sys.schemas WHERE name = 'f' ) \r\n",
                "BEGIN\r\n",
                "\tEXEC sp_executesql N'CREATE SCHEMA f AUTHORIZATION dbo;'\r\n",
                "END\r\n",
                ";                                                               --dim schema creation\r\n",
                "\r\n",
                "GO"
            ],
            "metadata": {
                "azdata_cell_guid": "c075c661-5a8c-4b6e-bb51-fc4de901d445",
                "language": "sql",
                "tags": []
            },
            "outputs": [
                {
                    "output_type": "display_data",
                    "data": {
                        "text/html": "Commands completed successfully."
                    },
                    "metadata": {}
                },
                {
                    "output_type": "display_data",
                    "data": {
                        "text/html": "Commands completed successfully."
                    },
                    "metadata": {}
                },
                {
                    "output_type": "display_data",
                    "data": {
                        "text/html": "Commands completed successfully."
                    },
                    "metadata": {}
                },
                {
                    "output_type": "display_data",
                    "data": {
                        "text/html": "Total execution time: 00:00:00.005"
                    },
                    "metadata": {}
                }
            ],
            "execution_count": 1
        },
        {
            "cell_type": "markdown",
            "source": [
                "### **Explaination**\n",
                "\n",
                "Here \"TargetMart2\" database is being used and creating two schema ('dim' and 'f') in it if they don't already exist, to keep things organized."
            ],
            "metadata": {
                "azdata_cell_guid": "9bc8cf3e-54ee-4ef4-9780-503a6f731837"
            },
            "attachments": {}
        },
        {
            "cell_type": "markdown",
            "source": [
                "## **Calendar dim table creation**"
            ],
            "metadata": {
                "azdata_cell_guid": "b86ba7e4-5019-4248-8109-0e684def074f"
            },
            "attachments": {}
        },
        {
            "cell_type": "code",
            "source": [
                "IF NOT EXISTS (SELECT * FROM INFORMATION_SCHEMA.TABLES WHERE TABLE_SCHEMA = 'dim' AND TABLE_NAME = 'Calendar')\r\n",
                "BEGIN\r\n",
                "CREATE TABLE dim.Calendar   --Table name\r\n",
                "(\r\n",
                "    pkCalendar INT NOT NULL,\r\n",
                "    DateValue DATE NOT NULL,\r\n",
                "    Year INT NOT NULL,\r\n",
                "    Quarter INT NOT NULL,\r\n",
                "\tQtr VARCHAR(3) NOT NULL,\r\n",
                "    Month INT NOT NULL,\r\n",
                "    MonthName VARCHAR(10) NOT NULL,\r\n",
                "\tMonthShort VARCHAR(3) NOT NULL,\r\n",
                "    Week INT NOT NULL,\r\n",
                "    Day INT NOT NULL,\r\n",
                "\tDayName VARCHAR(10) NOT NULL,\r\n",
                "\tDayShort VARCHAR(3) NOT NULL,\r\n",
                "    IsWeekday BIT NOT NULL,\r\n",
                "\tWeekday VARCHAR(3) NOT NULL\r\n",
                ");\r\n",
                "\r\n",
                "\tALTER TABLE dim.Calendar\r\n",
                "\tADD CONSTRAINT PK_Calendar_Julian PRIMARY KEY(pkCalendar);   --Primary Key\r\n",
                "\r\n",
                "\tALTER TABLE dim.Calendar\r\n",
                "    ADD CONSTRAINT UC_Calendar UNIQUE (DateValue);   --Unique Key\r\n",
                "END\r\n",
                "\r\n",
                "GO"
            ],
            "metadata": {
                "azdata_cell_guid": "7d3e4e5a-40ca-43fc-9d99-67dc1cf510e7",
                "language": "sql"
            },
            "outputs": [
                {
                    "output_type": "display_data",
                    "data": {
                        "text/html": "Commands completed successfully."
                    },
                    "metadata": {}
                },
                {
                    "output_type": "display_data",
                    "data": {
                        "text/html": "Total execution time: 00:00:00.022"
                    },
                    "metadata": {}
                }
            ],
            "execution_count": 2
        },
        {
            "cell_type": "markdown",
            "source": [
                "### **Explaination**\n",
                "\n",
                "<span style=\"color: var(--vscode-foreground); font-size: 14px;\">The script checks if a table named</span> **'Calendar'** <span style=\"color: var(--vscode-foreground); font-size: 14px;\"> exists in the </span> **'dim'** <span style=\"color: var(--vscode-foreground); font-size: 14px;\"> schema of the database. If not, it creates the 'Calendar' table with various date-related columns such as Year, Quarter, Month, Day, etc. It also ensures uniqueness by adding a </span> **primary key** <span style=\"color: var(--vscode-foreground); font-size: 14px;\"> constraint on the</span> **'pkCalendar'** <span style=\"color: var(--vscode-foreground); font-size: 14px;\">column and a </span> **unique constraint** <span style=\"color: var(--vscode-foreground); font-size: 14px;\">on the </span> **'DateValue'** <span style=\"color: var(--vscode-foreground); font-size: 14px;\"> column.&nbsp;&nbsp;</span>"
            ],
            "metadata": {
                "azdata_cell_guid": "919e82ef-9af3-4934-afc8-29929efa3ff3"
            },
            "attachments": {}
        },
        {
            "cell_type": "markdown",
            "source": [
                "## **Products dim table creation**"
            ],
            "metadata": {
                "azdata_cell_guid": "6b6b13c5-d5da-4427-8cdb-7f22fea57f4b"
            },
            "attachments": {}
        },
        {
            "cell_type": "code",
            "source": [
                "IF NOT EXISTS (SELECT * FROM INFORMATION_SCHEMA.TABLES WHERE TABLE_SCHEMA = 'dim' AND TABLE_NAME = 'Products')\r\n",
                "BEGIN\r\n",
                "CREATE TABLE dim.Products(            --Table name\r\n",
                "\tpkProdId int NOT NULL,\r\n",
                "\tProductId int NOT NULL,\r\n",
                "\tProduct nvarchar(50) NOT NULL,\r\n",
                "\tProductCategory nvarchar(25) NOT NULL,\r\n",
                "\tCategoryDesc ntext NULL,\r\n",
                "\tUnitPrice money NULL,\r\n",
                "\tUnitsInStock int NULL,\r\n",
                "\tUnitsOnOrder int NULL,\r\n",
                "\tReorderLevel int NULL,\r\n",
                "\tDiscontinued bit NOT NULL,\r\n",
                "\tReorderFlag nvarchar(3) NOT NULL\r\n",
                ");\r\n",
                "\r\n",
                "\tALTER TABLE dim.Products\r\n",
                "\tADD CONSTRAINT PK_Prods PRIMARY KEY(pkProdId);  --Primary Key\r\n",
                "\r\n",
                "\tALTER TABLE dim.Products\r\n",
                "    ADD CONSTRAINT UC_Prods UNIQUE (ProductId);  --Unique key\r\n",
                "END\r\n",
                ";\r\n",
                "GO"
            ],
            "metadata": {
                "azdata_cell_guid": "b7bfacce-faf8-4a63-9e5d-225a4a40e44b",
                "language": "sql"
            },
            "outputs": [
                {
                    "output_type": "display_data",
                    "data": {
                        "text/html": "Commands completed successfully."
                    },
                    "metadata": {}
                },
                {
                    "output_type": "display_data",
                    "data": {
                        "text/html": "Total execution time: 00:00:00.019"
                    },
                    "metadata": {}
                }
            ],
            "execution_count": 3
        },
        {
            "cell_type": "markdown",
            "source": [
                "### **Explaination**\n",
                "\n",
                "This script creates a 'Products' table in the 'dim' schema. It includes columns for product details, ensuring a **primary key 'pkProdId'** and a **unique constraint** on **'ProductId'**."
            ],
            "metadata": {
                "azdata_cell_guid": "7581a087-6f91-42f6-9c3f-319406cfa5da"
            },
            "attachments": {}
        },
        {
            "cell_type": "markdown",
            "source": [
                "## **Employee dim table creation**"
            ],
            "metadata": {
                "azdata_cell_guid": "cb2400ed-0ab2-4cad-b049-254591c9b7ce"
            },
            "attachments": {}
        },
        {
            "cell_type": "code",
            "source": [
                "IF NOT EXISTS (SELECT * FROM INFORMATION_SCHEMA.TABLES WHERE TABLE_SCHEMA = 'dim' AND TABLE_NAME = 'Employees')\r\n",
                "BEGIN\r\n",
                "CREATE TABLE dim.Employees(       --Table name\r\n",
                "\tEmployeeID int NOT NULL,\r\n",
                "\tEmployee nvarchar(50) NOT NULL,\r\n",
                "\tTitle nvarchar(30) NULL,\r\n",
                "\tBirthDate datetime NULL,\r\n",
                "\tHireDate datetime NULL,\r\n",
                "\tCity nvarchar(15) NULL,\r\n",
                "\tCountry nvarchar(15) NULL,\r\n",
                "\tReportsTo int NULL\r\n",
                ");\r\n",
                "\tALTER TABLE dim.Employees\r\n",
                "\tADD CONSTRAINT PK_Emp PRIMARY KEY(EmployeeID);  --Primary key\r\n",
                "\r\n",
                "END\r\n",
                "\r\n",
                "GO"
            ],
            "metadata": {
                "azdata_cell_guid": "62b8d55c-d907-4c5b-972f-a403ccf622f4",
                "language": "sql"
            },
            "outputs": [
                {
                    "output_type": "display_data",
                    "data": {
                        "text/html": "Commands completed successfully."
                    },
                    "metadata": {}
                },
                {
                    "output_type": "display_data",
                    "data": {
                        "text/html": "Total execution time: 00:00:00.012"
                    },
                    "metadata": {}
                }
            ],
            "execution_count": 4
        },
        {
            "cell_type": "markdown",
            "source": [
                "### **Explaination**\n",
                "\n",
                "<span style=\"color: var(--vscode-foreground);\">This script checks if a table named 'Employees' exists in the 'dim' schema. If not, it creates the 'Employees' table with columns such as 'EmployeeID,' 'Employee,' 'Title,' 'BirthDate,' 'HireDate,' 'City,' 'Country,' and 'ReportsTo.' Here <b>primary key</b> is <b>'EmployeeID'</b> column.&nbsp;</span>"
            ],
            "metadata": {
                "azdata_cell_guid": "f2fa0b5b-dfb3-4c47-b345-964c1d722f86"
            },
            "attachments": {}
        },
        {
            "cell_type": "markdown",
            "source": [
                "## **Shipper dim table creation**"
            ],
            "metadata": {
                "azdata_cell_guid": "9bdd750a-e8a3-41a2-9ec9-3e71cea9bf2b"
            },
            "attachments": {}
        },
        {
            "cell_type": "code",
            "source": [
                "IF NOT EXISTS (SELECT * FROM INFORMATION_SCHEMA.TABLES WHERE TABLE_SCHEMA = 'dim' AND TABLE_NAME = 'Shipper')\r\n",
                "BEGIN\r\n",
                "CREATE TABLE dim.Shipper       --Table name\r\n",
                "(\r\n",
                "    pkShipId int not null,\r\n",
                "\tShipper nvarchar(40) not null,\r\n",
                "\tPhone nvarchar(24) null\r\n",
                ");\r\n",
                "\r\n",
                "\tALTER TABLE dim.Shipper\r\n",
                "\tADD CONSTRAINT PK_Ship PRIMARY KEY(pkShipId);  --Primary key\r\n",
                "END\r\n",
                "\r\n",
                "GO"
            ],
            "metadata": {
                "azdata_cell_guid": "5e463114-0416-4cc7-b3ff-9f8c20a16655",
                "language": "sql"
            },
            "outputs": [
                {
                    "output_type": "display_data",
                    "data": {
                        "text/html": "Commands completed successfully."
                    },
                    "metadata": {}
                },
                {
                    "output_type": "display_data",
                    "data": {
                        "text/html": "Total execution time: 00:00:00.016"
                    },
                    "metadata": {}
                }
            ],
            "execution_count": 5
        },
        {
            "cell_type": "markdown",
            "source": [
                "### **Explaination**\n",
                "\n",
                "<span style=\"color: var(--vscode-foreground);\">This script checks if a table named 'Shipper' exists in the 'dim' schema. If not, it creates the 'Shipper' table with columns such as 'pkShipId,' 'Shipper,' and 'Phone.' It ensures uniqueness by adding a <b>primary key</b> constraint on the <b>'pkShipId'</b> column.&nbsp;</span>"
            ],
            "metadata": {
                "azdata_cell_guid": "a3559cce-4d55-472f-9607-2236301b201b"
            },
            "attachments": {}
        },
        {
            "cell_type": "markdown",
            "source": [
                "## **Customer dim table creation**"
            ],
            "metadata": {
                "azdata_cell_guid": "60932bef-987d-4a9d-a3ba-ade8d61797d3"
            },
            "attachments": {}
        },
        {
            "cell_type": "code",
            "source": [
                "IF NOT EXISTS (SELECT * FROM INFORMATION_SCHEMA.TABLES WHERE TABLE_SCHEMA = 'dim' AND TABLE_NAME = 'Customers')\r\n",
                "BEGIN\r\n",
                "\tCREATE TABLE dim.Customers(       --Table name\r\n",
                "\tpkCustomer int IDENTITY(1000,1) NOT NULL,\r\n",
                "\tCustomerID nvarchar(5) NOT NULL,\r\n",
                "\tCustomer nvarchar(40) NOT NULL,\r\n",
                "\tCity nvarchar(15) NULL,\r\n",
                "\tCountry nvarchar(15) NULL,\r\n",
                "\tLoadDate DATE NOT NULL,\r\n",
                "\tSourceCountry nvarchar(25) NULL\r\n",
                "\t)\r\n",
                "\t;\r\n",
                "\r\n",
                "\tALTER TABLE dim.Customers\r\n",
                "\tADD CONSTRAINT PK_Customers_LUP PRIMARY KEY(pkCustomer);  --Primary key\r\n",
                "\r\n",
                "\tALTER TABLE dim.Customers\r\n",
                "    ADD CONSTRAINT UC_Customers_ID UNIQUE (CustomerID);  --Unique key\r\n",
                "\r\n",
                "END\r\n",
                "\r\n",
                "GO\r\n",
                ""
            ],
            "metadata": {
                "azdata_cell_guid": "00f0a13e-66e5-4a08-a5f8-0a80c8c65d28",
                "language": "sql"
            },
            "outputs": [
                {
                    "output_type": "display_data",
                    "data": {
                        "text/html": "Commands completed successfully."
                    },
                    "metadata": {}
                },
                {
                    "output_type": "display_data",
                    "data": {
                        "text/html": "Total execution time: 00:00:00.014"
                    },
                    "metadata": {}
                }
            ],
            "execution_count": 6
        },
        {
            "cell_type": "markdown",
            "source": [
                "### **Explaination**\n",
                "\n",
                "This script creates a 'Customers' table in the 'dim' schema, including columns for customer information. It adds constraints for data integrity, with a primary key on 'pkCustomer' and a unique constraint on 'CustomerID'."
            ],
            "metadata": {
                "azdata_cell_guid": "d54e440e-48ba-4eec-ba6f-6b5aea4f614e"
            },
            "attachments": {}
        },
        {
            "cell_type": "markdown",
            "source": [
                "## **Orderperf fact table creation**"
            ],
            "metadata": {
                "azdata_cell_guid": "a6343fb9-2768-4591-8b4c-70db17853301"
            },
            "attachments": {}
        },
        {
            "cell_type": "code",
            "source": [
                "IF EXISTS (SELECT * FROM INFORMATION_SCHEMA.TABLES WHERE TABLE_SCHEMA = 'f' AND TABLE_NAME = 'OrderPerf')\r\n",
                "BEGIN \r\n",
                "\tDROP TABLE f.OrderPerf;\r\n",
                "END\r\n",
                "\r\n",
                "GO\r\n",
                "\r\n",
                "CREATE TABLE f.OrderPerf(        --Table name\r\n",
                "\tOrderID int NOT NULL,\r\n",
                "\tfkCalendar int NOT NULL,\r\n",
                "\tfkCustomer int NOT NULL,\r\n",
                "\tfkShipper int NULL,\r\n",
                "\tfkEmployee int NULL,\r\n",
                "\tFreight money NOT NULL,\r\n",
                "\tDaysToShip int NULL,\r\n",
                "\tDaysTilRequired int NULL,\r\n",
                "\tOrderCount int NOT NULL\r\n",
                ");\r\n",
                "\r\n",
                "\r\n",
                "ALTER TABLE f.OrderPerf\r\n",
                "ADD CONSTRAINT PK_ORD PRIMARY KEY(OrderID)  --Primary key\r\n",
                ";\r\n",
                "\r\n",
                "ALTER TABLE f.OrderPerf\r\n",
                "ADD CONSTRAINT FK_ORDtoCAL\r\n",
                "\tFOREIGN KEY (fkCalendar)              -- Foreign key\r\n",
                "\t REFERENCES  dim.Calendar(pkCalendar) \r\n",
                ";\r\n",
                "\r\n",
                "ALTER TABLE f.OrderPerf\r\n",
                "ADD CONSTRAINT FK_ORDtoCUST\r\n",
                "\tFOREIGN KEY (fkCustomer)              --Foreign key\r\n",
                "\t REFERENCES  dim.Customers(pkCustomer) \r\n",
                ";\r\n",
                "\r\n",
                "ALTER TABLE f.OrderPerf\r\n",
                "ADD CONSTRAINT FK_ORDtoSHIP\r\n",
                "\tFOREIGN KEY (fkShipper)  --Foreign key\r\n",
                "\t REFERENCES dim.Shipper(pkShipId)\r\n",
                ";\r\n",
                "\r\n",
                "ALTER TABLE f.OrderPerf\r\n",
                "ADD CONSTRAINT FK_ORDtoEMP\r\n",
                "\tFOREIGN KEY (fkEmployee)  --Foreign key\r\n",
                "\t REFERENCES dim.Employees(EmployeeID)\r\n",
                ";\r\n",
                "\r\n",
                "GO"
            ],
            "metadata": {
                "azdata_cell_guid": "aa56ef82-5eb5-4263-899a-df3d5ca6a89d",
                "language": "sql"
            },
            "outputs": [
                {
                    "output_type": "display_data",
                    "data": {
                        "text/html": "Commands completed successfully."
                    },
                    "metadata": {}
                },
                {
                    "output_type": "display_data",
                    "data": {
                        "text/html": "Commands completed successfully."
                    },
                    "metadata": {}
                },
                {
                    "output_type": "display_data",
                    "data": {
                        "text/html": "Total execution time: 00:00:00.064"
                    },
                    "metadata": {}
                }
            ],
            "execution_count": 7
        },
        {
            "cell_type": "markdown",
            "source": [
                "### **Explaination**\n",
                "\n",
                "This script first checks if a table named 'OrderPerf' exists in the 'f' schema. If it does, it drops the table. Then, it creates a new 'OrderPerf' table in the 'f' schema with columns such as 'OrderID,' 'fkCalendar,' 'fkCustomer,' 'fkShipper,' 'fkEmployee,' 'Freight,' 'DaysToShip,' 'DaysTilRequired,' and 'OrderCount.'  \n",
                "**Foreign key constraints linking** **'fkCalendar' to 'dim.Calendar(pkCalendar),' 'fkCustomer' to 'dim.Customers(pkCustomer),' 'fkShipper' to 'dim.Shipper(pkShipId),' and 'fkEmployee' to 'dim.Employees(EmployeeID).'**\n",
                "\n",
                "**A primary key constraint on 'OrderID.'**"
            ],
            "metadata": {
                "azdata_cell_guid": "33db48b7-3840-416c-ae9e-50fce7045f7b"
            },
            "attachments": {}
        },
        {
            "cell_type": "markdown",
            "source": [
                "## **ProductPerf fact table creation**"
            ],
            "metadata": {
                "azdata_cell_guid": "4df4a958-6d52-452d-92bb-e7f8e2d08ba6"
            },
            "attachments": {}
        },
        {
            "cell_type": "code",
            "source": [
                "IF EXISTS (SELECT * FROM INFORMATION_SCHEMA.TABLES WHERE TABLE_SCHEMA = 'f' AND TABLE_NAME = 'ProductPerf')\r\n",
                "BEGIN \r\n",
                "\tDROP TABLE f.ProductPerf;\r\n",
                "END\r\n",
                "\r\n",
                "CREATE TABLE f.ProductPerf(      --Table name\r\n",
                "\tOrderID int NOT NULL,\r\n",
                "\tfkOrderDate int NOT NULL,\r\n",
                "\tfkProductID int NOT NULL,\r\n",
                "\tfkCustomerID int NOT NULL,\r\n",
                "\tUnitPrice money NOT NULL,\r\n",
                "\tQuantity smallint NOT NULL,\r\n",
                "\tDiscount float NOT NULL,\r\n",
                "\tDiscFlag int NOT NULL,\r\n",
                "\tLineTotal money NULL\r\n",
                ");\r\n",
                "\r\n",
                "ALTER TABLE f.ProductPerf\r\n",
                "ADD CONSTRAINT PK_ProdPerf PRIMARY KEY(OrderID, fkProductID)   --Primary keys\r\n",
                "\r\n",
                "ALTER TABLE f.ProductPerf\r\n",
                "ADD CONSTRAINT FK_PRODtoCAL\r\n",
                "\tFOREIGN KEY (fkOrderDate)  --Foreign key\r\n",
                "\t REFERENCES dim.Calendar(pkCalendar)\r\n",
                ";\r\n",
                "\r\n",
                "ALTER TABLE f.ProductPerf\r\n",
                "ADD CONSTRAINT FK_PRODtoPROD\r\n",
                "\tFOREIGN KEY (fkProductID)   --Foreign key\r\n",
                "\t REFERENCES dim.Products(pkProdId)\r\n",
                ";\r\n",
                "\r\n",
                "ALTER TABLE f.ProductPerf\r\n",
                "ADD CONSTRAINT FK_PRODtoCUST\r\n",
                "\tFOREIGN KEY (fkCustomerID)   --Foreign key\r\n",
                "\t REFERENCES dim.Customers(pkCustomer)\r\n",
                ";"
            ],
            "metadata": {
                "azdata_cell_guid": "7fc230a1-055d-46b3-a893-b42fcd811342",
                "language": "sql"
            },
            "outputs": [
                {
                    "output_type": "display_data",
                    "data": {
                        "text/html": "Commands completed successfully."
                    },
                    "metadata": {}
                },
                {
                    "output_type": "display_data",
                    "data": {
                        "text/html": "Total execution time: 00:00:00.041"
                    },
                    "metadata": {}
                }
            ],
            "execution_count": 8
        },
        {
            "cell_type": "markdown",
            "source": [
                "### **Explaination** \n",
                "\n",
                "This script verifies the existence of the 'ProductPerf' table in the 'f' schema. If present, it is dropped. Subsequently, a new 'ProductPerf' table is created, featuring columns for product performance metrics.  There are primary keys and foreign keys connecting to other tables within the 'dim' schema."
            ],
            "metadata": {
                "azdata_cell_guid": "5ddb2afe-40ab-452f-8bdc-fea84bfe4a28"
            },
            "attachments": {}
        }
    ]
}